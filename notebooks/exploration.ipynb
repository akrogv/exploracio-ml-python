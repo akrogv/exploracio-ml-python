"""
Totes les jupyter notebooks estaran guardades en aquesta carpeta.
Farem servir jupyternotebooks per fer exploració i análisi de dades, així com per comprovacions de dades i plots.
"""
