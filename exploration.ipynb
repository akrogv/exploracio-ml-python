{
 "cells": [
  {
   "cell_type": "code",
   "execution_count": 1,
   "metadata": {
    "collapsed": true,
    "pycharm": {
     "name": "#%%\n"
    }
   },
   "outputs": [],
   "source": [
    "import pandas as pd\n",
    "import pyarrow.parquet as pq"
   ]
  },
  {
   "cell_type": "code",
   "execution_count": 4,
   "outputs": [],
   "source": [
    "parquetDf = pq.ParquetDataset('data/')\n",
    "eventsDf = parquetDf.read().to_pandas()"
   ],
   "metadata": {
    "collapsed": false,
    "pycharm": {
     "name": "#%%\n"
    }
   }
  },
  {
   "cell_type": "code",
   "execution_count": 5,
   "outputs": [
    {
     "name": "stderr",
     "output_type": "stream",
     "text": [
      "/var/folders/h0/ghgtz2c94bj8xyjcn3n5xvh80000gn/T/ipykernel_3756/187901066.py:1: FutureWarning: Indexing with multiple keys (implicitly converted to a tuple of keys) will be deprecated, use a list instead.\n",
      "  aidsGrouped = eventsDf.groupby(['aid', 'type'])['aid', 'type'].count()\n"
     ]
    }
   ],
   "source": [
    "aidsGrouped = eventsDf.groupby(['aid', 'type'])['aid', 'type'].count()\n",
    "aidsClicks = aidsGrouped[aidsGrouped['type'] == 'clicks']\n",
    "aidsCarts = aidsGrouped[aidsGrouped['type'] == 'carts']\n",
    "aidsOrders = aidsGrouped[aidsGrouped['type'] == 'orders']"
   ],
   "metadata": {
    "collapsed": false,
    "pycharm": {
     "name": "#%%\n"
    }
   }
  },
  {
   "cell_type": "code",
   "execution_count": 6,
   "outputs": [
    {
     "name": "stdout",
     "output_type": "stream",
     "text": [
      "Events: 216716096 Types: ['clicks' 'carts' 'orders'] NProducts: 3748278\n",
      "ClicksEvents: 194720954 89.85071141185563\n",
      "CartsEvents: 16896191 7.796463350834817\n",
      "OrdersEvents: 5098951 2.3528252373095535\n"
     ]
    }
   ],
   "source": [
    "#EVENT DATA\n",
    "nevents = len(eventsDf)\n",
    "types = pd.unique(eventsDf['type'])\n",
    "nAids = len(aidsGrouped)\n",
    "print(\"Events:\", nevents, \"Types:\", types, 'NProducts:', nAids)\n",
    "clicksEv = eventsDf[eventsDf['type'] == 'clicks'].shape[0]\n",
    "cartsEv = eventsDf[eventsDf['type'] == 'carts'].shape[0]\n",
    "ordersEv = eventsDf[eventsDf['type'] == 'orders'].shape[0]\n",
    "\n",
    "print(\"ClicksEvents:\", clicksEv, str((clicksEv/nevents)*100).format(':%'))\n",
    "print(\"CartsEvents:\", cartsEv, str((cartsEv/nevents)*100).format(':%'))\n",
    "print(\"OrdersEvents:\", ordersEv, str((ordersEv/nevents)*100).format(':%'))\n",
    "\n",
    "\n"
   ],
   "metadata": {
    "collapsed": false,
    "pycharm": {
     "name": "#%%\n"
    }
   }
  },
  {
   "cell_type": "code",
   "execution_count": null,
   "outputs": [],
   "source": [],
   "metadata": {
    "collapsed": false,
    "pycharm": {
     "name": "#%%\n"
    }
   }
  }
 ],
 "metadata": {
  "kernelspec": {
   "display_name": "Python 3",
   "language": "python",
   "name": "python3"
  },
  "language_info": {
   "codemirror_mode": {
    "name": "ipython",
    "version": 2
   },
   "file_extension": ".py",
   "mimetype": "text/x-python",
   "name": "python",
   "nbconvert_exporter": "python",
   "pygments_lexer": "ipython2",
   "version": "2.7.6"
  }
 },
 "nbformat": 4,
 "nbformat_minor": 0
}