{
 "cells": [
  {
   "cell_type": "code",
   "execution_count": 13,
   "metadata": {
    "collapsed": true,
    "pycharm": {
     "name": "#%%\n"
    }
   },
   "outputs": [],
   "source": [
    "import pandas as pd\n",
    "import pyarrow.parquet as pq\n",
    "import os\n",
    "os.path.exists('exploracio-ml-python/data')"
   ]
  },
  {
   "cell_type": "code",
   "execution_count": 14,
   "outputs": [
    {
     "ename": "OSError",
     "evalue": "Passed non-file path: exploracio-ml-python/data",
     "output_type": "error",
     "traceback": [
      "\u001B[0;31m---------------------------------------------------------------------------\u001B[0m",
      "\u001B[0;31mOSError\u001B[0m                                   Traceback (most recent call last)",
      "Input \u001B[0;32mIn [14]\u001B[0m, in \u001B[0;36m<cell line: 1>\u001B[0;34m()\u001B[0m\n\u001B[0;32m----> 1\u001B[0m parquetDf \u001B[38;5;241m=\u001B[39m \u001B[43mpq\u001B[49m\u001B[38;5;241;43m.\u001B[39;49m\u001B[43mParquetDataset\u001B[49m\u001B[43m(\u001B[49m\u001B[38;5;124;43m'\u001B[39;49m\u001B[38;5;124;43mexploracio-ml-python/data\u001B[39;49m\u001B[38;5;124;43m'\u001B[39;49m\u001B[43m)\u001B[49m\n\u001B[1;32m      2\u001B[0m eventsDf \u001B[38;5;241m=\u001B[39m parquetDf\u001B[38;5;241m.\u001B[39mread()\u001B[38;5;241m.\u001B[39mto_pandas()\n",
      "File \u001B[0;32m~/miniforge3/envs/env_tf/lib/python3.9/site-packages/pyarrow/parquet/__init__.py:1744\u001B[0m, in \u001B[0;36mParquetDataset.__init__\u001B[0;34m(self, path_or_paths, filesystem, schema, metadata, split_row_groups, validate_schema, filters, metadata_nthreads, read_dictionary, memory_map, buffer_size, partitioning, use_legacy_dataset, pre_buffer, coerce_int96_timestamp_unit, thrift_string_size_limit, thrift_container_size_limit)\u001B[0m\n\u001B[1;32m   1738\u001B[0m \u001B[38;5;28mself\u001B[39m\u001B[38;5;241m.\u001B[39m_ds_metadata\u001B[38;5;241m.\u001B[39mmemory_map \u001B[38;5;241m=\u001B[39m memory_map\n\u001B[1;32m   1739\u001B[0m \u001B[38;5;28mself\u001B[39m\u001B[38;5;241m.\u001B[39m_ds_metadata\u001B[38;5;241m.\u001B[39mbuffer_size \u001B[38;5;241m=\u001B[39m buffer_size\n\u001B[1;32m   1741\u001B[0m (\u001B[38;5;28mself\u001B[39m\u001B[38;5;241m.\u001B[39m_pieces,\n\u001B[1;32m   1742\u001B[0m  \u001B[38;5;28mself\u001B[39m\u001B[38;5;241m.\u001B[39m_partitions,\n\u001B[1;32m   1743\u001B[0m  \u001B[38;5;28mself\u001B[39m\u001B[38;5;241m.\u001B[39m_common_metadata_path,\n\u001B[0;32m-> 1744\u001B[0m  \u001B[38;5;28mself\u001B[39m\u001B[38;5;241m.\u001B[39m_metadata_path) \u001B[38;5;241m=\u001B[39m \u001B[43m_make_manifest\u001B[49m\u001B[43m(\u001B[49m\n\u001B[1;32m   1745\u001B[0m \u001B[43m     \u001B[49m\u001B[43mpath_or_paths\u001B[49m\u001B[43m,\u001B[49m\u001B[43m \u001B[49m\u001B[38;5;28;43mself\u001B[39;49m\u001B[38;5;241;43m.\u001B[39;49m\u001B[43m_fs\u001B[49m\u001B[43m,\u001B[49m\u001B[43m \u001B[49m\u001B[43mmetadata_nthreads\u001B[49m\u001B[38;5;241;43m=\u001B[39;49m\u001B[43mmetadata_nthreads\u001B[49m\u001B[43m,\u001B[49m\n\u001B[1;32m   1746\u001B[0m \u001B[43m     \u001B[49m\u001B[43mopen_file_func\u001B[49m\u001B[38;5;241;43m=\u001B[39;49m\u001B[43mpartial\u001B[49m\u001B[43m(\u001B[49m\u001B[43m_open_dataset_file\u001B[49m\u001B[43m,\u001B[49m\u001B[43m \u001B[49m\u001B[38;5;28;43mself\u001B[39;49m\u001B[38;5;241;43m.\u001B[39;49m\u001B[43m_ds_metadata\u001B[49m\u001B[43m)\u001B[49m\n\u001B[1;32m   1747\u001B[0m \u001B[43m\u001B[49m\u001B[43m)\u001B[49m\n\u001B[1;32m   1749\u001B[0m \u001B[38;5;28;01mif\u001B[39;00m \u001B[38;5;28mself\u001B[39m\u001B[38;5;241m.\u001B[39m_common_metadata_path \u001B[38;5;129;01mis\u001B[39;00m \u001B[38;5;129;01mnot\u001B[39;00m \u001B[38;5;28;01mNone\u001B[39;00m:\n\u001B[1;32m   1750\u001B[0m     \u001B[38;5;28;01mwith\u001B[39;00m \u001B[38;5;28mself\u001B[39m\u001B[38;5;241m.\u001B[39m_fs\u001B[38;5;241m.\u001B[39mopen(\u001B[38;5;28mself\u001B[39m\u001B[38;5;241m.\u001B[39m_common_metadata_path) \u001B[38;5;28;01mas\u001B[39;00m f:\n",
      "File \u001B[0;32m~/miniforge3/envs/env_tf/lib/python3.9/site-packages/pyarrow/parquet/__init__.py:2227\u001B[0m, in \u001B[0;36m_make_manifest\u001B[0;34m(path_or_paths, fs, pathsep, metadata_nthreads, open_file_func)\u001B[0m\n\u001B[1;32m   2225\u001B[0m \u001B[38;5;28;01mfor\u001B[39;00m path \u001B[38;5;129;01min\u001B[39;00m path_or_paths:\n\u001B[1;32m   2226\u001B[0m     \u001B[38;5;28;01mif\u001B[39;00m \u001B[38;5;129;01mnot\u001B[39;00m fs\u001B[38;5;241m.\u001B[39misfile(path):\n\u001B[0;32m-> 2227\u001B[0m         \u001B[38;5;28;01mraise\u001B[39;00m \u001B[38;5;167;01mOSError\u001B[39;00m(\u001B[38;5;124m'\u001B[39m\u001B[38;5;124mPassed non-file path: \u001B[39m\u001B[38;5;132;01m{}\u001B[39;00m\u001B[38;5;124m'\u001B[39m\n\u001B[1;32m   2228\u001B[0m                       \u001B[38;5;241m.\u001B[39mformat(path))\n\u001B[1;32m   2229\u001B[0m     piece \u001B[38;5;241m=\u001B[39m ParquetDatasetPiece\u001B[38;5;241m.\u001B[39m_create(\n\u001B[1;32m   2230\u001B[0m         path, open_file_func\u001B[38;5;241m=\u001B[39mopen_file_func)\n\u001B[1;32m   2231\u001B[0m     pieces\u001B[38;5;241m.\u001B[39mappend(piece)\n",
      "\u001B[0;31mOSError\u001B[0m: Passed non-file path: exploracio-ml-python/data"
     ]
    }
   ],
   "source": [
    "parquetDf = pq.ParquetDataset('exploracio-ml-python/data')\n",
    "eventsDf = parquetDf.read().to_pandas()\n"
   ],
   "metadata": {
    "collapsed": false,
    "pycharm": {
     "name": "#%%\n"
    }
   }
  },
  {
   "cell_type": "code",
   "execution_count": 5,
   "outputs": [
    {
     "name": "stderr",
     "output_type": "stream",
     "text": [
      "/var/folders/h0/ghgtz2c94bj8xyjcn3n5xvh80000gn/T/ipykernel_3756/187901066.py:1: FutureWarning: Indexing with multiple keys (implicitly converted to a tuple of keys) will be deprecated, use a list instead.\n",
      "  aidsGrouped = eventsDf.groupby(['aid', 'type'])['aid', 'type'].count()\n"
     ]
    }
   ],
   "source": [
    "aidsGrouped = eventsDf.groupby(['aid', 'type'])['aid', 'type'].count()\n",
    "aidsClicks = aidsGrouped[aidsGrouped['type'] == 'clicks']\n",
    "aidsCarts = aidsGrouped[aidsGrouped['type'] == 'carts']\n",
    "aidsOrders = aidsGrouped[aidsGrouped['type'] == 'orders']"
   ],
   "metadata": {
    "collapsed": false,
    "pycharm": {
     "name": "#%%\n"
    }
   }
  },
  {
   "cell_type": "code",
   "execution_count": null,
   "outputs": [],
   "source": [],
   "metadata": {
    "collapsed": false,
    "pycharm": {
     "name": "#%%\n"
    }
   }
  },
  {
   "cell_type": "code",
   "execution_count": 6,
   "outputs": [
    {
     "name": "stdout",
     "output_type": "stream",
     "text": [
      "Events: 216716096 Types: ['clicks' 'carts' 'orders'] NProducts: 3748278\n",
      "ClicksEvents: 194720954 89.85071141185563\n",
      "CartsEvents: 16896191 7.796463350834817\n",
      "OrdersEvents: 5098951 2.3528252373095535\n"
     ]
    }
   ],
   "source": [
    "#EVENT DATA\n",
    "nevents = len(eventsDf)\n",
    "types = pd.unique(eventsDf['type'])\n",
    "nAids = len(aidsGrouped)\n",
    "print(\"Events:\", nevents, \"Types:\", types, 'NProducts:', nAids)\n",
    "clicksEv = eventsDf[eventsDf['type'] == 'clicks'].shape[0]\n",
    "cartsEv = eventsDf[eventsDf['type'] == 'carts'].shape[0]\n",
    "ordersEv = eventsDf[eventsDf['type'] == 'orders'].shape[0]\n",
    "\n",
    "print(\"ClicksEvents:\", clicksEv, str((clicksEv/nevents)*100).format(':%'))\n",
    "print(\"CartsEvents:\", cartsEv, str((cartsEv/nevents)*100).format(':%'))\n",
    "print(\"OrdersEvents:\", ordersEv, str((ordersEv/nevents)*100).format(':%'))\n",
    "\n",
    "\n"
   ],
   "metadata": {
    "collapsed": false,
    "pycharm": {
     "name": "#%%\n"
    }
   }
  },
  {
   "cell_type": "code",
   "execution_count": null,
   "outputs": [],
   "source": [],
   "metadata": {
    "collapsed": false,
    "pycharm": {
     "name": "#%%\n"
    }
   }
  }
 ],
 "metadata": {
  "kernelspec": {
   "display_name": "Python 3",
   "language": "python",
   "name": "python3"
  },
  "language_info": {
   "codemirror_mode": {
    "name": "ipython",
    "version": 2
   },
   "file_extension": ".py",
   "mimetype": "text/x-python",
   "name": "python",
   "nbconvert_exporter": "python",
   "pygments_lexer": "ipython2",
   "version": "2.7.6"
  }
 },
 "nbformat": 4,
 "nbformat_minor": 0
}