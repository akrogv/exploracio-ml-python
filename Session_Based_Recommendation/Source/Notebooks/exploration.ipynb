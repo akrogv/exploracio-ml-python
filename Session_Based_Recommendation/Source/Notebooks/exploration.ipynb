{
 "cells": [
  {
   "cell_type": "code",
   "execution_count": 1,
   "metadata": {
    "collapsed": true,
    "pycharm": {
     "name": "#%%\n"
    }
   },
   "outputs": [
    {
     "ename": "ModuleNotFoundError",
     "evalue": "No module named 'pyarrow'",
     "output_type": "error",
     "traceback": [
      "\u001b[1;31m---------------------------------------------------------------------------\u001b[0m",
      "\u001b[1;31mModuleNotFoundError\u001b[0m                       Traceback (most recent call last)",
      "Cell \u001b[1;32mIn [1], line 2\u001b[0m\n\u001b[0;32m      1\u001b[0m \u001b[39mimport\u001b[39;00m \u001b[39mpandas\u001b[39;00m \u001b[39mas\u001b[39;00m \u001b[39mpd\u001b[39;00m\n\u001b[1;32m----> 2\u001b[0m \u001b[39mimport\u001b[39;00m \u001b[39mpyarrow\u001b[39;00m\u001b[39m.\u001b[39;00m\u001b[39mparquet\u001b[39;00m \u001b[39mas\u001b[39;00m \u001b[39mpq\u001b[39;00m\n",
      "\u001b[1;31mModuleNotFoundError\u001b[0m: No module named 'pyarrow'"
     ]
    },
    {
     "ename": "",
     "evalue": "",
     "output_type": "error",
     "traceback": [
      "\u001b[1;31mEl Kernel se bloqueó al ejecutar código en la celda actual o en una celda anterior. Revise el código de las celdas para identificar una posible causa del error. Haga clic <a href='https://aka.ms/vscodeJupyterKernelCrash'>aquí</a> para obtener más información. Vea el [registro] de Jupyter (command:jupyter.viewOutput) para obtener más detalles."
     ]
    }
   ],
   "source": [
    "import pandas as pd\n",
    "import pyarrow.parquet as pq"
   ]
  },
  {
   "cell_type": "code",
   "execution_count": 4,
   "metadata": {
    "collapsed": false,
    "pycharm": {
     "name": "#%%\n"
    }
   },
   "outputs": [],
   "source": [
    "parquetDf = pq.ParquetDataset('data/')\n",
    "eventsDf = parquetDf.read().to_pandas()"
   ]
  },
  {
   "cell_type": "code",
   "execution_count": 5,
   "metadata": {
    "collapsed": false,
    "pycharm": {
     "name": "#%%\n"
    }
   },
   "outputs": [
    {
     "name": "stderr",
     "output_type": "stream",
     "text": [
      "/var/folders/h0/ghgtz2c94bj8xyjcn3n5xvh80000gn/T/ipykernel_3756/187901066.py:1: FutureWarning: Indexing with multiple keys (implicitly converted to a tuple of keys) will be deprecated, use a list instead.\n",
      "  aidsGrouped = eventsDf.groupby(['aid', 'type'])['aid', 'type'].count()\n"
     ]
    }
   ],
   "source": [
    "aidsGrouped = eventsDf.groupby(['aid', 'type'])['aid', 'type'].count()\n",
    "aidsClicks = aidsGrouped[aidsGrouped['type'] == 'clicks']\n",
    "aidsCarts = aidsGrouped[aidsGrouped['type'] == 'carts']\n",
    "aidsOrders = aidsGrouped[aidsGrouped['type'] == 'orders']"
   ]
  },
  {
   "cell_type": "code",
   "execution_count": 6,
   "metadata": {
    "collapsed": false,
    "pycharm": {
     "name": "#%%\n"
    }
   },
   "outputs": [
    {
     "name": "stdout",
     "output_type": "stream",
     "text": [
      "Events: 216716096 Types: ['clicks' 'carts' 'orders'] NProducts: 3748278\n",
      "ClicksEvents: 194720954 89.85071141185563\n",
      "CartsEvents: 16896191 7.796463350834817\n",
      "OrdersEvents: 5098951 2.3528252373095535\n"
     ]
    }
   ],
   "source": [
    "#EVENT DATA\n",
    "nevents = len(eventsDf)\n",
    "types = pd.unique(eventsDf['type'])\n",
    "nAids = len(aidsGrouped)\n",
    "print(\"Events:\", nevents, \"Types:\", types, 'NProducts:', nAids)\n",
    "clicksEv = eventsDf[eventsDf['type'] == 'clicks'].shape[0]\n",
    "cartsEv = eventsDf[eventsDf['type'] == 'carts'].shape[0]\n",
    "ordersEv = eventsDf[eventsDf['type'] == 'orders'].shape[0]\n",
    "\n",
    "print(\"ClicksEvents:\", clicksEv, str((clicksEv/nevents)*100).format(':%'))\n",
    "print(\"CartsEvents:\", cartsEv, str((cartsEv/nevents)*100).format(':%'))\n",
    "print(\"OrdersEvents:\", ordersEv, str((ordersEv/nevents)*100).format(':%'))\n",
    "\n",
    "\n"
   ]
  },
  {
   "cell_type": "code",
   "execution_count": null,
   "metadata": {
    "collapsed": false,
    "pycharm": {
     "name": "#%%\n"
    }
   },
   "outputs": [],
   "source": []
  }
 ],
 "metadata": {
  "kernelspec": {
   "display_name": "Python 3.10.8 64-bit (microsoft store)",
   "language": "python",
   "name": "python3"
  },
  "language_info": {
   "codemirror_mode": {
    "name": "ipython",
    "version": 3
   },
   "file_extension": ".py",
   "mimetype": "text/x-python",
   "name": "python",
   "nbconvert_exporter": "python",
   "pygments_lexer": "ipython3",
   "version": "3.10.8"
  },
  "vscode": {
   "interpreter": {
    "hash": "6787011c45a3efbe649b58d2421ae9152c81bafd697e8826c2692fe659a45695"
   }
  }
 },
 "nbformat": 4,
 "nbformat_minor": 0
}
